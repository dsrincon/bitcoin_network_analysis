{
 "cells": [
  {
   "cell_type": "markdown",
   "metadata": {},
   "source": [
    "# Bitcoin Transaction Network Characterization and Basic Analysis"
   ]
  },
  {
   "cell_type": "code",
   "execution_count": 1,
   "metadata": {},
   "outputs": [],
   "source": [
    "import blocksci\n",
    "import pandas as pd\n",
    "import numpy as np\n",
    "import networkx as nx\n",
    "%matplotlib notebook"
   ]
  },
  {
   "cell_type": "code",
   "execution_count": 2,
   "metadata": {},
   "outputs": [],
   "source": [
    "# Point to parsed blockchain data\n",
    "chain = blocksci.Blockchain(\"/home/ubuntu/bitcoin\")"
   ]
  },
  {
   "cell_type": "markdown",
   "metadata": {},
   "source": [
    "## Network Characterization"
   ]
  },
  {
   "cell_type": "markdown",
   "metadata": {},
   "source": [
    "### Clustering"
   ]
  },
  {
   "cell_type": "code",
   "execution_count": 3,
   "metadata": {},
   "outputs": [],
   "source": [
    "ClustMan=blocksci.cluster.ClusterManager(\"/home/ubuntu/bitcoin/clusters/\",chain)\n",
    "clusters=ClustMan.clusters()\n",
    "cluster_ix=clusters.index"
   ]
  },
  {
   "cell_type": "code",
   "execution_count": 15,
   "metadata": {},
   "outputs": [],
   "source": [
    "# Extract blocks\n",
    "blocks=chain.range(start='2009-01-01 00:00:00',end='2009-01-15 23:59:59')\n",
    "# Extract addresses from blocks\n",
    "txs=blocks.txes\n",
    "\n",
    "print('Number of Blocks: {} '.format(len(blocks)))\n",
    "print('Number of Blocks: {} '.format(len(txs)))\n"
   ]
  },
  {
   "cell_type": "code",
   "execution_count": 16,
   "metadata": {},
   "outputs": [
    {
     "name": "stdout",
     "output_type": "stream",
     "text": [
      "Number of Addresses: 655 \n"
     ]
    }
   ],
   "source": [
    "# Extract addresses from range blocks\n",
    "addresses=blocks.outputs.address\n",
    "init_addresses=set([])\n",
    "for address in addresses: \n",
    "    init_addresses.add(address)\n",
    "print('Number of Addresses: {} '.format(len(init_addresses)))"
   ]
  },
  {
   "cell_type": "code",
   "execution_count": 17,
   "metadata": {},
   "outputs": [
    {
     "name": "stdout",
     "output_type": "stream",
     "text": [
      "Number of Clusters: 616 \n"
     ]
    }
   ],
   "source": [
    "# Create address-> cluster dictionary and set of relevant clusters\n",
    "\n",
    "init_clusters=set([])\n",
    "add_clust_dic={}\n",
    "\n",
    "for address in init_addresses:\n",
    "    cluster_i=ClustMan.cluster_with_address(address)\n",
    "    init_clusters.add(cluster_i)\n",
    "    add_clust_dic[address.address_num]=cluster_i.index # Different addresses might have the same internal address number\n",
    "\n",
    "print('Number of Clusters: {} '.format(len(init_clusters)))\n"
   ]
  },
  {
   "cell_type": "code",
   "execution_count": 18,
   "metadata": {},
   "outputs": [],
   "source": [
    "# Create address->tx (as input) Dictionary \n",
    "\n",
    "add_txin={}\n",
    "\n",
    "for tx in txs:\n",
    "    for address_num in tx.inputs.address.address_num:\n",
    "        try:\n",
    "            add_txin[address_num].add(tx.index)\n",
    "        except KeyError:\n",
    "            add_txin[address_num]=set([])\n",
    "            add_txin[address_num].add(tx.index)\n",
    "        except AttributeError:\n",
    "            add_txin[address_num]=set([])\n",
    "            add_txin[address_num].add(tx.index)\n"
   ]
  },
  {
   "cell_type": "code",
   "execution_count": 28,
   "metadata": {},
   "outputs": [
    {
     "name": "stdout",
     "output_type": "stream",
     "text": [
      "[7, 8, 10, 34, 79, 172, 186, 188, 193, 242]\n",
      "{198979}\n"
     ]
    }
   ],
   "source": [
    "print(list(add_txin.keys())[:10])\n",
    "print(add_txin[242])"
   ]
  },
  {
   "cell_type": "code",
   "execution_count": 19,
   "metadata": {},
   "outputs": [],
   "source": [
    "# Create address->tx (as output) Dictionary \n",
    "\n",
    "add_txout={}\n",
    "\n",
    "for tx in txs:\n",
    "    for address_num in tx.outputs.address.address_num:\n",
    "        try:\n",
    "            add_txout[address_num].add(tx.index)\n",
    "        except KeyError:\n",
    "            add_txout[address_num]=set([])\n",
    "            add_txout[address_num].add(tx.index)\n",
    "        except AttributeError:\n",
    "            add_txout[address_num]=set([])\n",
    "            add_txout[address_num].add(tx.index)"
   ]
  },
  {
   "cell_type": "code",
   "execution_count": 36,
   "metadata": {},
   "outputs": [
    {
     "name": "stdout",
     "output_type": "stream",
     "text": [
      "[1, 2, 3, 4, 5, 6, 7, 8, 9, 10]\n",
      "{1488055}\n"
     ]
    }
   ],
   "source": [
    "print(list(add_txout.keys())[:10])\n",
    "print(add_txout[2023333])"
   ]
  },
  {
   "cell_type": "code",
   "execution_count": null,
   "metadata": {},
   "outputs": [],
   "source": [
    "# Create list tuples for clusters that have transacted\n",
    "edges=[]\n",
    "%time\n",
    "for cluster in init_clusters:\n",
    "    for address_num in cluster.addresses.address_num:\n",
    "        \n",
    "        try:\n",
    "            for tx in add_txin[address_num]:\n",
    "                for address_no in chain.tx_with_index(tx).outputs.address.address_num:\n",
    "                    edge_i=(cluster.index,add_clust_dic[address_no])\n",
    "                    edges.append(edge_i)\n",
    "        except KeyError:\n",
    "            continue\n",
    "            \n",
    "print('Number of Edges: {} '.format(len(edges)))        "
   ]
  },
  {
   "cell_type": "code",
   "execution_count": null,
   "metadata": {},
   "outputs": [],
   "source": [
    "for cluster in init_clusters:\n",
    "    address_clust_i=cluster.outs.address\n",
    "        for address in address_clust_i:\n",
    "            cluster\n",
    "            "
   ]
  },
  {
   "cell_type": "markdown",
   "metadata": {},
   "source": [
    "### Define nodes and edges"
   ]
  },
  {
   "cell_type": "code",
   "execution_count": 25,
   "metadata": {},
   "outputs": [],
   "source": [
    "# Define graph object and add nodes\n",
    "bc_graph=nx.Graph()\n",
    "bc_graph.add_nodes_from(init_clusters)"
   ]
  },
  {
   "cell_type": "code",
   "execution_count": 26,
   "metadata": {},
   "outputs": [
    {
     "name": "stdout",
     "output_type": "stream",
     "text": [
      "874968\n"
     ]
    }
   ],
   "source": [
    "print(bc_graph.number_of_nodes())"
   ]
  },
  {
   "cell_type": "markdown",
   "metadata": {},
   "source": [
    "### Create graph"
   ]
  },
  {
   "cell_type": "code",
   "execution_count": null,
   "metadata": {},
   "outputs": [],
   "source": []
  }
 ],
 "metadata": {
  "kernelspec": {
   "display_name": "Python 3",
   "language": "python",
   "name": "python3"
  },
  "language_info": {
   "codemirror_mode": {
    "name": "ipython",
    "version": 3
   },
   "file_extension": ".py",
   "mimetype": "text/x-python",
   "name": "python",
   "nbconvert_exporter": "python",
   "pygments_lexer": "ipython3",
   "version": "3.5.2"
  }
 },
 "nbformat": 4,
 "nbformat_minor": 2
}
